{
 "cells": [
  {
   "cell_type": "code",
   "execution_count": 1,
   "metadata": {},
   "outputs": [
    {
     "name": "stdout",
     "output_type": "stream",
     "text": [
      "['0', '1']\n",
      "['0', '1']\n"
     ]
    }
   ],
   "source": [
    "from PIL import Image\n",
    "import os, sys\n",
    "import cv2\n",
    "import numpy as np\n",
    "import os\n",
    "print(os.listdir(\"./Test\"))\n",
    "print(os.listdir(\"./Train\"))"
   ]
  },
  {
   "cell_type": "code",
   "execution_count": 2,
   "metadata": {},
   "outputs": [],
   "source": [
    "'''\n",
    "Converts all images in a directory to '.npy' format.\n",
    "Use np.save and np.load to save and load the images.\n",
    "Use it for training your neural networks in ML/DL projects. \n",
    "'''\n",
    "# Path to image directory\n",
    "path = \"Train\"\n",
    "dirs = os.listdir( path )\n",
    "dirs.sort()\n",
    "x_train=[]\n",
    "\n",
    "def load_dataset():\n",
    "    # Append images to a list\n",
    "    for item in dirs:\n",
    "        if os.path.isfile(path+item):\n",
    "            im = Image.open(path+item).convert(\"RGB\")\n",
    "            im = np.array(im)\n",
    "            x_train.append(im)"
   ]
  },
  {
   "cell_type": "code",
   "execution_count": 3,
   "metadata": {},
   "outputs": [],
   "source": [
    "load_dataset()\n",
    "# Convert and save the list of images in '.npy' format\n",
    "imgset=np.array(x_train)\n",
    "np.save(\"x_train.npy\",imgset)"
   ]
  },
  {
   "cell_type": "code",
   "execution_count": null,
   "metadata": {},
   "outputs": [],
   "source": []
  }
 ],
 "metadata": {
  "kernelspec": {
   "display_name": "Python 3 (ipykernel)",
   "language": "python",
   "name": "python3"
  },
  "language_info": {
   "codemirror_mode": {
    "name": "ipython",
    "version": 3
   },
   "file_extension": ".py",
   "mimetype": "text/x-python",
   "name": "python",
   "nbconvert_exporter": "python",
   "pygments_lexer": "ipython3",
   "version": "3.9.12"
  }
 },
 "nbformat": 4,
 "nbformat_minor": 4
}
